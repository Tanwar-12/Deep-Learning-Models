{
  "nbformat": 4,
  "nbformat_minor": 0,
  "metadata": {
    "colab": {
      "provenance": []
    },
    "kernelspec": {
      "name": "python3",
      "display_name": "Python 3"
    },
    "language_info": {
      "name": "python"
    }
  },
  "cells": [
    {
      "cell_type": "code",
      "execution_count": 1,
      "metadata": {
        "colab": {
          "base_uri": "https://localhost:8080/"
        },
        "id": "QzW7G7cSeaVH",
        "outputId": "128af97c-a123-402f-dc5b-63bc7cb51f49"
      },
      "outputs": [
        {
          "output_type": "stream",
          "name": "stdout",
          "text": [
            "Mounted at /content/drive\n"
          ]
        }
      ],
      "source": [
        "from google.colab import drive\n",
        "\n",
        "# Mount Google Drive\n",
        "drive.mount('/content/drive')\n"
      ]
    },
    {
      "cell_type": "code",
      "source": [
        "import pandas as pd\n",
        "\n",
        "\n",
        "# Load the Iris dataset from a CSV file in Google Drive\n",
        "iris_df = pd.read_csv('/content/iris.data')\n",
        "\n"
      ],
      "metadata": {
        "id": "9U6EQ1zCp5k5"
      },
      "execution_count": 3,
      "outputs": []
    },
    {
      "cell_type": "code",
      "source": [
        "import pandas as pd\n",
        "from sklearn.datasets import load_iris\n",
        "from sklearn.model_selection import train_test_split\n",
        "from sklearn.neural_network import MLPClassifier\n",
        "from sklearn.metrics import accuracy_score\n",
        "\n",
        "# Load the Iris dataset\n",
        "iris = load_iris()\n",
        "X, y = iris.data, iris.target\n",
        "\n",
        "# Split the data into training and testing sets\n",
        "X_train, X_test, y_train, y_test = train_test_split(X, y, test_size=0.2, random_state=42)\n",
        "\n",
        "# Initialize and train the MLP classifier\n",
        "mlp_classifier = MLPClassifier(hidden_layer_sizes=(100, 50), activation='relu', max_iter=1000, random_state=42)\n",
        "mlp_classifier.fit(X_train, y_train)\n",
        "\n",
        "# Make predictions on the test set\n",
        "y_pred = mlp_classifier.predict(X_test)\n",
        "\n",
        "# Calculate accuracy\n",
        "accuracy = accuracy_score(y_test, y_pred)\n",
        "print(\"MLP Accuracy:\", accuracy)\n"
      ],
      "metadata": {
        "colab": {
          "base_uri": "https://localhost:8080/"
        },
        "id": "13dcNYWStgZJ",
        "outputId": "f0ff4026-5891-4e11-91f5-c475bc6df3db"
      },
      "execution_count": 13,
      "outputs": [
        {
          "output_type": "stream",
          "name": "stdout",
          "text": [
            "MLP Accuracy: 1.0\n"
          ]
        }
      ]
    },
    {
      "cell_type": "code",
      "source": [
        "import tensorflow as tf\n",
        "from tensorflow.keras.datasets import mnist\n",
        "from tensorflow.keras.models import Sequential\n",
        "from tensorflow.keras.layers import Conv2D, MaxPooling2D, Flatten, Dense\n",
        "from tensorflow.keras.utils import to_categorical\n",
        "\n",
        "# Load and preprocess the MNIST dataset\n",
        "(X_train, y_train), (X_test, y_test) = mnist.load_data()\n",
        "X_train = X_train.reshape(-1, 28, 28, 1).astype('float32') / 255.0\n",
        "X_test = X_test.reshape(-1, 28, 28, 1).astype('float32') / 255.0\n",
        "y_train = to_categorical(y_train, 10)\n",
        "y_test = to_categorical(y_test, 10)\n",
        "\n",
        "# Initialize and train the CNN\n",
        "cnn_model = Sequential([\n",
        "    Conv2D(32, (3, 3), activation='relu', input_shape=(28, 28, 1)),\n",
        "    MaxPooling2D((2, 2)),\n",
        "    Conv2D(64, (3, 3), activation='relu'),\n",
        "    MaxPooling2D((2, 2)),\n",
        "    Flatten(),\n",
        "    Dense(64, activation='relu'),\n",
        "    Dense(10, activation='softmax')\n",
        "])\n",
        "cnn_model.compile(optimizer='adam', loss='categorical_crossentropy', metrics=['accuracy'])\n",
        "cnn_model.fit(X_train, y_train, epochs=5, batch_size=64, validation_data=(X_test, y_test))\n",
        "\n",
        "# Evaluate the CNN\n",
        "loss, accuracy = cnn_model.evaluate(X_test, y_test)\n",
        "print(\"CNN Accuracy:\", accuracy)\n"
      ],
      "metadata": {
        "colab": {
          "base_uri": "https://localhost:8080/"
        },
        "id": "RIT3KmJptlR9",
        "outputId": "07e3150d-0779-41f4-a88e-af85994af5f7"
      },
      "execution_count": 14,
      "outputs": [
        {
          "output_type": "stream",
          "name": "stdout",
          "text": [
            "Downloading data from https://storage.googleapis.com/tensorflow/tf-keras-datasets/mnist.npz\n",
            "11490434/11490434 [==============================] - 0s 0us/step\n",
            "Epoch 1/5\n",
            "938/938 [==============================] - 59s 62ms/step - loss: 0.1818 - accuracy: 0.9449 - val_loss: 0.0541 - val_accuracy: 0.9830\n",
            "Epoch 2/5\n",
            "938/938 [==============================] - 51s 55ms/step - loss: 0.0534 - accuracy: 0.9836 - val_loss: 0.0456 - val_accuracy: 0.9864\n",
            "Epoch 3/5\n",
            "938/938 [==============================] - 52s 56ms/step - loss: 0.0378 - accuracy: 0.9880 - val_loss: 0.0471 - val_accuracy: 0.9841\n",
            "Epoch 4/5\n",
            "938/938 [==============================] - 49s 52ms/step - loss: 0.0294 - accuracy: 0.9908 - val_loss: 0.0357 - val_accuracy: 0.9889\n",
            "Epoch 5/5\n",
            "938/938 [==============================] - 51s 55ms/step - loss: 0.0229 - accuracy: 0.9924 - val_loss: 0.0320 - val_accuracy: 0.9898\n",
            "313/313 [==============================] - 3s 8ms/step - loss: 0.0320 - accuracy: 0.9898\n",
            "CNN Accuracy: 0.989799976348877\n"
          ]
        }
      ]
    },
    {
      "cell_type": "code",
      "source": [
        "import numpy as np\n",
        "from tensorflow.keras.models import Sequential\n",
        "from tensorflow.keras.layers import SimpleRNN, Dense\n",
        "\n",
        "# Generate synthetic sequential data\n",
        "X_train = np.random.rand(100, 10, 5)  # 100 samples, each with a sequence of length 10 and 5 features\n",
        "y_train = np.random.randint(0, 2, (100,))  # Binary classification labels\n",
        "\n",
        "# Initialize and train the RNN\n",
        "rnn_model = Sequential([\n",
        "    SimpleRNN(32, input_shape=(10, 5), activation='relu'),\n",
        "    Dense(1, activation='sigmoid')\n",
        "])\n",
        "rnn_model.compile(optimizer='adam', loss='binary_crossentropy', metrics=['accuracy'])\n",
        "rnn_model.fit(X_train, y_train, epochs=10, batch_size=32)\n",
        "\n",
        "# Evaluate the RNN (No test set for simplicity)\n",
        "loss, accuracy = rnn_model.evaluate(X_train, y_train)\n",
        "print(\"RNN Accuracy:\", accuracy)\n"
      ],
      "metadata": {
        "colab": {
          "base_uri": "https://localhost:8080/"
        },
        "id": "R-gS3Ld1tpJ2",
        "outputId": "83b9a6e5-51de-448c-89c5-a8af9829256f"
      },
      "execution_count": 15,
      "outputs": [
        {
          "output_type": "stream",
          "name": "stdout",
          "text": [
            "Epoch 1/10\n",
            "4/4 [==============================] - 1s 7ms/step - loss: 0.7088 - accuracy: 0.4900\n",
            "Epoch 2/10\n",
            "4/4 [==============================] - 0s 6ms/step - loss: 0.7041 - accuracy: 0.4800\n",
            "Epoch 3/10\n",
            "4/4 [==============================] - 0s 6ms/step - loss: 0.7012 - accuracy: 0.4900\n",
            "Epoch 4/10\n",
            "4/4 [==============================] - 0s 6ms/step - loss: 0.6994 - accuracy: 0.4800\n",
            "Epoch 5/10\n",
            "4/4 [==============================] - 0s 7ms/step - loss: 0.6971 - accuracy: 0.4800\n",
            "Epoch 6/10\n",
            "4/4 [==============================] - 0s 5ms/step - loss: 0.6950 - accuracy: 0.4800\n",
            "Epoch 7/10\n",
            "4/4 [==============================] - 0s 6ms/step - loss: 0.6925 - accuracy: 0.4900\n",
            "Epoch 8/10\n",
            "4/4 [==============================] - 0s 7ms/step - loss: 0.6907 - accuracy: 0.5000\n",
            "Epoch 9/10\n",
            "4/4 [==============================] - 0s 6ms/step - loss: 0.6893 - accuracy: 0.5000\n",
            "Epoch 10/10\n",
            "4/4 [==============================] - 0s 7ms/step - loss: 0.6875 - accuracy: 0.5100\n",
            "4/4 [==============================] - 0s 4ms/step - loss: 0.6866 - accuracy: 0.5100\n",
            "RNN Accuracy: 0.5099999904632568\n"
          ]
        }
      ]
    }
  ]
}